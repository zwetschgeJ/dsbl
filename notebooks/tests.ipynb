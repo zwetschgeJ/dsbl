{
 "cells": [
  {
   "cell_type": "markdown",
   "source": [
    "# What makes Liga happy\n",
    "## 1. Pairingliste erstellen"
   ],
   "metadata": {
    "collapsed": false
   },
   "id": "c5ff660f643a2ba2"
  },
  {
   "cell_type": "code",
   "execution_count": 9,
   "id": "initial_id",
   "metadata": {
    "collapsed": true,
    "ExecuteTime": {
     "end_time": "2024-07-10T07:43:31.884018Z",
     "start_time": "2024-07-10T07:43:31.872461Z"
    }
   },
   "outputs": [],
   "source": [
    "import itertools\n",
    "import numpy as np\n",
    "\n",
    "\n",
    "boats = 6\n",
    "no_teams = 18\n",
    "flights = 16\n",
    "\n",
    "boat_colors = {'light_blue', 'green', 'dark blue', 'white', 'grey', 'red'}\n",
    "\n",
    "def is_valid_bibd(blocks, v, k, lambda_val):\n",
    "    \"\"\" Check if the given blocks form a valid BIBD. \"\"\"\n",
    "    # Initialize a v x v incidence matrix\n",
    "    incidence_matrix = np.zeros((v, v))\n",
    "    \n",
    "    for block in blocks:\n",
    "        for pair in itertools.combinations(block, 2):\n",
    "            incidence_matrix[pair[0]-1, pair[1]-1] += 1\n",
    "            incidence_matrix[pair[1]-1, pair[0]-1] += 1\n",
    "    \n",
    "    # Check all off-diagonal elements to see if they are all lambda\n",
    "    for i in range(v):\n",
    "        for j in range(v):\n",
    "            if i != j and incidence_matrix[i, j] != lambda_val:\n",
    "                return False\n",
    "    return True\n",
    "\n",
    "def generate_bibd(v, k, lambda_val):\n",
    "    \"\"\" Generate a BIBD with parameters v, k, lambda_val if possible. \"\"\"\n",
    "    elements = list(range(1, v+1))\n",
    "    all_blocks = list(itertools.combinations(elements, k))\n",
    "    valid_designs = []\n",
    "\n",
    "    # Attempt to find a valid set of blocks that forms a BIBD\n",
    "    for blocks in itertools.combinations(all_blocks, v):\n",
    "        if is_valid_bibd(blocks, v, k, lambda_val):\n",
    "            valid_designs.append(blocks)\n",
    "            break  # Found a valid design; you might want to find more\n",
    "\n",
    "    return valid_designs\n"
   ]
  },
  {
   "cell_type": "markdown",
   "source": [
    "## 2. Ergebnislisten erstellen\n",
    "### Ergebnislisten vorbereiten"
   ],
   "metadata": {
    "collapsed": false
   },
   "id": "ed67398b65c9826a"
  },
  {
   "cell_type": "code",
   "outputs": [
    {
     "name": "stdout",
     "output_type": "stream",
     "text": [
      "        Flight 1 Flight 2 Flight 3 Flight 4 Flight 5 Flight 6 Flight 7  \\\n",
      "ASVW         NaN      NaN      NaN      NaN      NaN      NaN      NaN   \n",
      "BYC(BA)      NaN      NaN      NaN      NaN      NaN      NaN      NaN   \n",
      "BYC(BE)      NaN      NaN      NaN      NaN      NaN      NaN      NaN   \n",
      "BYC(SH)      NaN      NaN      NaN      NaN      NaN      NaN      NaN   \n",
      "BYCÜ         NaN      NaN      NaN      NaN      NaN      NaN      NaN   \n",
      "DYC          NaN      NaN      NaN      NaN      NaN      NaN      NaN   \n",
      "FSC          NaN      NaN      NaN      NaN      NaN      NaN      NaN   \n",
      "JSC          NaN      NaN      NaN      NaN      NaN      NaN      NaN   \n",
      "KYC(BW)      NaN      NaN      NaN      NaN      NaN      NaN      NaN   \n",
      "KYC(SH)      NaN      NaN      NaN      NaN      NaN      NaN      NaN   \n",
      "MSC          NaN      NaN      NaN      NaN      NaN      NaN      NaN   \n",
      "MYC          NaN      NaN      NaN      NaN      NaN      NaN      NaN   \n",
      "NRV          NaN      NaN      NaN      NaN      NaN      NaN      NaN   \n",
      "RSN          NaN      NaN      NaN      NaN      NaN      NaN      NaN   \n",
      "SMCÜ         NaN      NaN      NaN      NaN      NaN      NaN      NaN   \n",
      "SV03         NaN      NaN      NaN      NaN      NaN      NaN      NaN   \n",
      "SVI          NaN      NaN      NaN      NaN      NaN      NaN      NaN   \n",
      "VSaW         NaN      NaN      NaN      NaN      NaN      NaN      NaN   \n",
      "WYC          NaN      NaN      NaN      NaN      NaN      NaN      NaN   \n",
      "\n",
      "        Flight 8 Flight 9 Flight 10 Flight 11 Flight 12 Flight 13 Flight 14  \\\n",
      "ASVW         NaN      NaN       NaN       NaN       NaN       NaN       NaN   \n",
      "BYC(BA)      NaN      NaN       NaN       NaN       NaN       NaN       NaN   \n",
      "BYC(BE)      NaN      NaN       NaN       NaN       NaN       NaN       NaN   \n",
      "BYC(SH)      NaN      NaN       NaN       NaN       NaN       NaN       NaN   \n",
      "BYCÜ         NaN      NaN       NaN       NaN       NaN       NaN       NaN   \n",
      "DYC          NaN      NaN       NaN       NaN       NaN       NaN       NaN   \n",
      "FSC          NaN      NaN       NaN       NaN       NaN       NaN       NaN   \n",
      "JSC          NaN      NaN       NaN       NaN       NaN       NaN       NaN   \n",
      "KYC(BW)      NaN      NaN       NaN       NaN       NaN       NaN       NaN   \n",
      "KYC(SH)      NaN      NaN       NaN       NaN       NaN       NaN       NaN   \n",
      "MSC          NaN      NaN       NaN       NaN       NaN       NaN       NaN   \n",
      "MYC          NaN      NaN       NaN       NaN       NaN       NaN       NaN   \n",
      "NRV          NaN      NaN       NaN       NaN       NaN       NaN       NaN   \n",
      "RSN          NaN      NaN       NaN       NaN       NaN       NaN       NaN   \n",
      "SMCÜ         NaN      NaN       NaN       NaN       NaN       NaN       NaN   \n",
      "SV03         NaN      NaN       NaN       NaN       NaN       NaN       NaN   \n",
      "SVI          NaN      NaN       NaN       NaN       NaN       NaN       NaN   \n",
      "VSaW         NaN      NaN       NaN       NaN       NaN       NaN       NaN   \n",
      "WYC          NaN      NaN       NaN       NaN       NaN       NaN       NaN   \n",
      "\n",
      "        Flight 15 Flight 16  Total  \n",
      "ASVW          NaN       NaN      0  \n",
      "BYC(BA)       NaN       NaN      0  \n",
      "BYC(BE)       NaN       NaN      0  \n",
      "BYC(SH)       NaN       NaN      0  \n",
      "BYCÜ          NaN       NaN      0  \n",
      "DYC           NaN       NaN      0  \n",
      "FSC           NaN       NaN      0  \n",
      "JSC           NaN       NaN      0  \n",
      "KYC(BW)       NaN       NaN      0  \n",
      "KYC(SH)       NaN       NaN      0  \n",
      "MSC           NaN       NaN      0  \n",
      "MYC           NaN       NaN      0  \n",
      "NRV           NaN       NaN      0  \n",
      "RSN           NaN       NaN      0  \n",
      "SMCÜ          NaN       NaN      0  \n",
      "SV03          NaN       NaN      0  \n",
      "SVI           NaN       NaN      0  \n",
      "VSaW          NaN       NaN      0  \n",
      "WYC           NaN       NaN      0  \n"
     ]
    }
   ],
   "source": [
    "import pandas as pd\n",
    "max_race_columns = 16\n",
    "race_columns = ['Flight {}'.format(i) for i in range(1,max_race_columns+1)]\n",
    "teams = ['ASVW', 'BYC(BA)', 'BYC(BE)', 'BYC(SH)', 'BYCÜ', 'DYC', 'FSC', 'JSC', 'KYC(BW)', 'KYC(SH)', 'MSC', 'MYC', 'NRV', 'RSN', 'SMCÜ', 'SV03', 'SVI', 'VSaW', 'WYC']\n",
    "\n",
    "number_of_boats = 6\n",
    "number_of_teams = len(teams)\n",
    "\n",
    "result_df = pd.DataFrame(index=range(number_of_teams), columns=race_columns)\n",
    "result_df.index = teams\n",
    "result_df['Total'] = 0\n",
    "print(result_df)"
   ],
   "metadata": {
    "collapsed": false,
    "ExecuteTime": {
     "end_time": "2024-07-10T19:56:31.192188Z",
     "start_time": "2024-07-10T19:56:31.171776Z"
    }
   },
   "id": "214c9da064f4ab28",
   "execution_count": 19
  },
  {
   "cell_type": "markdown",
   "source": [
    "Eine Wettfahrt hinzufügen"
   ],
   "metadata": {
    "collapsed": false
   },
   "id": "68b80cc5d7c0246c"
  },
  {
   "cell_type": "code",
   "outputs": [],
   "source": [
    "def count_values(row):\n",
    "    # You can adjust this list based on the values you're interested in\n",
    "    values_of_interest = [i for i in range(1, 6+2)]\n",
    "    # TODO look only in Race{}.format() columns\n",
    "    counts = {value: (row == value).sum() for value in values_of_interest}\n",
    "    return pd.Series(counts)\n",
    "    \n",
    "def add_race_results(result_df, race, results):\n",
    "    for team in result_df.index:\n",
    "        result_df.loc[team,'Flight {}'.format(race)] = results[team]\n",
    "    return result_df\n",
    "\n",
    "def sort_results(result_df):\n",
    "    result_df['Total'] = result_df.sum(axis=1)\n",
    "    counts_df = result_df.apply(count_values, axis=1)\n",
    "    result_df = pd.concat([result_df, counts_df], axis=1,)\n",
    "    \n",
    "    sort_column_list = ['Total']\n",
    "    sort_column_list.extend([i for i in range(1,number_of_boats+2)])\n",
    "    sort_column_list.extend(['Flight {}'.format(i) for i in range(max_race_columns, 1, -1)])\n",
    "    \n",
    "    sort_column_order_list = [True]\n",
    "    sort_column_order_list.extend([False for i in range(1,number_of_boats+2)])\n",
    "    sort_column_order_list.extend([True for i in range(max_race_columns, 1, -1)])\n",
    "    \n",
    "    result_df.sort_values(by=sort_column_list, ascending=sort_column_order_list, inplace=True)\n",
    "    \n",
    "    for i in range(1, number_of_boats+2):\n",
    "        result_df.drop(i, axis=1, inplace=True)\n",
    "    result_df['Rank'] = range(1,result_df.shape[0]+1)\n",
    "    return result_df"
   ],
   "metadata": {
    "collapsed": false,
    "ExecuteTime": {
     "end_time": "2024-07-10T19:56:32.876771Z",
     "start_time": "2024-07-10T19:56:32.856797Z"
    }
   },
   "id": "28c5395063f3d113",
   "execution_count": 20
  },
  {
   "cell_type": "code",
   "outputs": [],
   "source": [
    "results = {'MYC': 2, 'JSC': 1, 'ASVW': 3, 'SV03': 2, 'TS': 2, 'AS': 3, 'HJBK': 2, 'WSVA': 1, 'KNZRV': 3, 'DSK': 2, 'MSF': 1, 'YCCh': 3, 'SCM': 2, 'CNA': 1, 'YCS': 3, 'RS280': 2, 'RCB': 1}\n",
    "results2 = {'MYC': 1, 'JSC': 2, 'ASVW': 3, 'SV03': 1, 'TS': 2, 'AS': 3, 'HJBK': 1, 'WSVA': 2, 'KNZRV': 3, 'DSK': 1, 'MSF': 2, 'YCCh': 3, 'SCM': 1, 'CNA': 2, 'YCS': 3, 'RS280': 1, 'RCB': 2}\n",
    "results3 = {'MYC': 3, 'JSC': 2, 'ASVW': 1, 'SV03': 3, 'TS': 1, 'AS': 1, 'HJBK': 3, 'WSVA': 2, 'KNZRV': 1, 'DSK': 3, 'MSF': 2, 'YCCh': 1, 'SCM': 3, 'CNA': 2, 'YCS': 1, 'RS280': 3, 'RCB': 2}"
   ],
   "metadata": {
    "collapsed": false,
    "ExecuteTime": {
     "end_time": "2024-07-10T19:56:33.459172Z",
     "start_time": "2024-07-10T19:56:33.443007Z"
    }
   },
   "id": "2f10db7ab15d9098",
   "execution_count": 21
  },
  {
   "cell_type": "code",
   "outputs": [
    {
     "ename": "KeyError",
     "evalue": "'BYC(BA)'",
     "output_type": "error",
     "traceback": [
      "\u001B[0;31m---------------------------------------------------------------------------\u001B[0m",
      "\u001B[0;31mKeyError\u001B[0m                                  Traceback (most recent call last)",
      "Cell \u001B[0;32mIn[22], line 1\u001B[0m\n\u001B[0;32m----> 1\u001B[0m result_df \u001B[38;5;241m=\u001B[39m \u001B[43madd_race_results\u001B[49m\u001B[43m(\u001B[49m\u001B[43mresult_df\u001B[49m\u001B[43m,\u001B[49m\u001B[43m \u001B[49m\u001B[38;5;241;43m1\u001B[39;49m\u001B[43m,\u001B[49m\u001B[43m \u001B[49m\u001B[43mresults\u001B[49m\u001B[43m)\u001B[49m\n\u001B[1;32m      2\u001B[0m result_df \u001B[38;5;241m=\u001B[39m add_race_results(result_df, \u001B[38;5;241m2\u001B[39m, results2)\n\u001B[1;32m      3\u001B[0m result_df \u001B[38;5;241m=\u001B[39m add_race_results(result_df, \u001B[38;5;241m3\u001B[39m, results3)\n",
      "Cell \u001B[0;32mIn[20], line 10\u001B[0m, in \u001B[0;36madd_race_results\u001B[0;34m(result_df, race, results)\u001B[0m\n\u001B[1;32m      8\u001B[0m \u001B[38;5;28;01mdef\u001B[39;00m \u001B[38;5;21madd_race_results\u001B[39m(result_df, race, results):\n\u001B[1;32m      9\u001B[0m     \u001B[38;5;28;01mfor\u001B[39;00m team \u001B[38;5;129;01min\u001B[39;00m result_df\u001B[38;5;241m.\u001B[39mindex:\n\u001B[0;32m---> 10\u001B[0m         result_df\u001B[38;5;241m.\u001B[39mloc[team,\u001B[38;5;124m'\u001B[39m\u001B[38;5;124mFlight \u001B[39m\u001B[38;5;132;01m{}\u001B[39;00m\u001B[38;5;124m'\u001B[39m\u001B[38;5;241m.\u001B[39mformat(race)] \u001B[38;5;241m=\u001B[39m \u001B[43mresults\u001B[49m\u001B[43m[\u001B[49m\u001B[43mteam\u001B[49m\u001B[43m]\u001B[49m\n\u001B[1;32m     11\u001B[0m     \u001B[38;5;28;01mreturn\u001B[39;00m result_df\n",
      "\u001B[0;31mKeyError\u001B[0m: 'BYC(BA)'"
     ]
    }
   ],
   "source": [
    "result_df = add_race_results(result_df, 1, results)\n",
    "result_df = add_race_results(result_df, 2, results2)\n",
    "result_df = add_race_results(result_df, 3, results3)\n",
    "result_df = sort_results(result_df)\n",
    "print(result_df)"
   ],
   "metadata": {
    "collapsed": false,
    "ExecuteTime": {
     "end_time": "2024-07-10T19:56:38.305399Z",
     "start_time": "2024-07-10T19:56:38.214969Z"
    }
   },
   "id": "b5e654065da63f76",
   "execution_count": 22
  },
  {
   "cell_type": "code",
   "outputs": [
    {
     "ename": "AttributeError",
     "evalue": "'NoneType' object has no attribute 'extend'",
     "output_type": "error",
     "traceback": [
      "\u001B[0;31m---------------------------------------------------------------------------\u001B[0m",
      "\u001B[0;31mAttributeError\u001B[0m                            Traceback (most recent call last)",
      "Cell \u001B[0;32mIn[14], line 2\u001B[0m\n\u001B[1;32m      1\u001B[0m list1 \u001B[38;5;241m=\u001B[39m [\u001B[38;5;241m1\u001B[39m,\u001B[38;5;241m2\u001B[39m,\u001B[38;5;241m3\u001B[39m]\n\u001B[0;32m----> 2\u001B[0m \u001B[43mlist1\u001B[49m\u001B[38;5;241;43m.\u001B[39;49m\u001B[43mextend\u001B[49m\u001B[43m(\u001B[49m\u001B[43m[\u001B[49m\u001B[38;5;28;43;01mTrue\u001B[39;49;00m\u001B[43m \u001B[49m\u001B[38;5;28;43;01mfor\u001B[39;49;00m\u001B[43m \u001B[49m\u001B[43mi\u001B[49m\u001B[43m \u001B[49m\u001B[38;5;129;43;01min\u001B[39;49;00m\u001B[43m \u001B[49m\u001B[38;5;28;43mrange\u001B[39;49m\u001B[43m(\u001B[49m\u001B[38;5;241;43m3\u001B[39;49m\u001B[43m)\u001B[49m\u001B[43m]\u001B[49m\u001B[43m)\u001B[49m\u001B[38;5;241;43m.\u001B[39;49m\u001B[43mextend\u001B[49m([\u001B[38;5;28;01mFalse\u001B[39;00m \u001B[38;5;28;01mfor\u001B[39;00m i \u001B[38;5;129;01min\u001B[39;00m \u001B[38;5;28mrange\u001B[39m(\u001B[38;5;241m3\u001B[39m)])\n\u001B[1;32m      3\u001B[0m \u001B[38;5;28mprint\u001B[39m(list1)\n",
      "\u001B[0;31mAttributeError\u001B[0m: 'NoneType' object has no attribute 'extend'"
     ]
    }
   ],
   "source": [
    "list1 = [1,2,3]\n",
    "list1.extend([True for i in range(3)]).extend([False for i in range(3)])\n",
    "print(list1)"
   ],
   "metadata": {
    "collapsed": false,
    "ExecuteTime": {
     "end_time": "2024-07-10T07:43:32.203444Z",
     "start_time": "2024-07-10T07:43:32.174788Z"
    }
   },
   "id": "67eda1f7c40a57a9",
   "execution_count": 14
  },
  {
   "cell_type": "code",
   "outputs": [],
   "source": [
    "\n",
    "# Sample DataFrame construction\n",
    "data = {\n",
    "    'Boat A': [2, 2, 2, 1],\n",
    "    'Boat B': [1, 1, 3, 2],\n",
    "    'Boat C': [2, 1, 3, 1]\n",
    "}\n",
    "df = pd.DataFrame(data).T\n",
    "\n",
    "def count_values(row):\n",
    "    # You can adjust this list based on the values you're interested in\n",
    "    values_of_interest = [1, 2, 3]\n",
    "    counts = {value: (row == value).sum() for value in values_of_interest}\n",
    "    return pd.Series(counts)\n",
    "\n",
    "df.columns = ['Race1', 'Race2', 'Race3', 'Race4']\n",
    "\n",
    "# Step 1: Calculate total scores for each boat\n",
    "df['Total'] = df.sum(axis=1)\n",
    "\n",
    "# Step 2: Sort by total score initially\n",
    "df.sort_values('Total', inplace=True)\n",
    "\n",
    "counts_df = df.apply(count_values, axis=1)\n",
    "df = pd.concat([df, counts_df], axis=1,)\n",
    "\n",
    "df.sort_values(by=['Total',1,2,3,'Race4'],ascending=[False,False,False,False,True], inplace=True)\n",
    "df.sort_values(by='Total',ascending=False).sort_values(by=[1,2,3], ascending=False).sort_values(by=['Race{}'.format(i) for i in range(max_race_columns, 1, -1)],ascending=True)"
   ],
   "metadata": {
    "collapsed": false,
    "ExecuteTime": {
     "end_time": "2024-07-10T07:43:32.208240Z",
     "start_time": "2024-07-10T07:43:32.207580Z"
    }
   },
   "id": "1ede4ddb65999115",
   "execution_count": null
  },
  {
   "cell_type": "code",
   "outputs": [],
   "source": [
    "print(list(df.columns[:-1])[::-1])\n",
    "\n",
    "df['Total+1'] = list(df.columns[:-1])[::-1]\n",
    "print(df)\n",
    "\n",
    "\n",
    "# Step 3: Further tie-breaking\n",
    "# First by best to worst race scores\n",
    "sorted_df = df.sort_values(['Total'] + list(df.columns[:-1])[::-1], ascending=[True] + [True] * len(df.columns[:-1]))\n",
    "\n",
    "# Step 4: Tie-breaking by scores in last races\n",
    "#for col in reversed(df.columns[:-1]):\n",
    "#    sorted_df = sorted_df.sort_values(['Total'] + list(reversed(df.columns[:-1])), ascending=True)\n",
    "\n",
    "print(sorted_df[['Total']])"
   ],
   "metadata": {
    "collapsed": false
   },
   "id": "18c3f852d3d266bd"
  },
  {
   "cell_type": "code",
   "outputs": [],
   "source": [
    "# Example parameters (small scale for demonstration)\n",
    "v = 4  # Number of elements (teams)\n",
    "k = 2  # Number of elements per block (teams per race)\n",
    "lambda_val = 1  # Each pair should appear exactly once\n",
    "\n",
    "# Generate the BIBD\n",
    "bibd_designs = generate_bibd(v, k, lambda_val)\n",
    "for design in bibd_designs:\n",
    "    print(\"Valid BIBD Design:\")\n",
    "    for block in design:\n",
    "        print(block)"
   ],
   "metadata": {
    "collapsed": false
   },
   "id": "4ae9ad605c36ee05",
   "execution_count": null
  },
  {
   "cell_type": "code",
   "outputs": [],
   "source": [
    "import numpy as np\n",
    "\n",
    "def round_robin_schedule(n):\n",
    "    \"\"\"\n",
    "    Generate a round-robin schedule for n teams.\n",
    "    \"\"\"\n",
    "    if n % 2 != 0:\n",
    "        n += 1  # If odd number of teams, add a dummy team\n",
    "\n",
    "    schedule = []\n",
    "    teams = list(range(n))\n",
    "\n",
    "    for round in range(n - 1):\n",
    "        round_matches = []\n",
    "        for i in range(n // 2):\n",
    "            if teams[i] != n - 1 and teams[n - 1 - i] != n - 1:\n",
    "                round_matches.append((teams[i], teams[n - 1 - i]))\n",
    "        teams = teams[:1] + teams[-1:] + teams[1:-1]\n",
    "        schedule.append(round_matches)\n",
    "    \n",
    "    return schedule\n",
    "\n",
    "def assign_boats_to_races(schedule, num_boats):\n",
    "    \"\"\"\n",
    "    Assign boats to races such that the distribution is balanced.\n",
    "    \"\"\"\n",
    "    num_rounds = len(schedule)\n",
    "    num_races_per_round = len(schedule[0])\n",
    "    boat_assignments = np.zeros((num_rounds, num_races_per_round), dtype=int)\n",
    "\n",
    "    for round in range(num_rounds):\n",
    "        for race in range(num_races_per_round):\n",
    "            boat_assignments[round, race] = (round + race) % num_boats\n",
    "    \n",
    "    return boat_assignments\n",
    "\n",
    "def generate_racing_schedule(num_teams, num_boats):\n",
    "    \"\"\"\n",
    "    Generate a balanced racing schedule for num_teams teams and num_boats boats.\n",
    "    \"\"\"\n",
    "    # Step 1: Generate round-robin schedule\n",
    "    schedule = round_robin_schedule(num_teams)\n",
    "\n",
    "    # Step 2: Assign boats to races\n",
    "    boat_assignments = assign_boats_to_races(schedule, num_boats)\n",
    "    \n",
    "    racing_schedule = []\n",
    "    for round_index, round_matches in enumerate(schedule):\n",
    "        for race_index, match in enumerate(round_matches):\n",
    "            team1, team2 = match\n",
    "            boat = boat_assignments[round_index, race_index]\n",
    "            racing_schedule.append((team1, team2, boat))\n",
    "    \n",
    "    return racing_schedule\n",
    "\n",
    "# Parameters\n",
    "num_teams = 18\n",
    "num_boats = 6\n",
    "\n",
    "# Generate schedule\n",
    "racing_schedule = generate_racing_schedule(num_teams, num_boats)\n",
    "\n",
    "# Print schedule\n",
    "for race in racing_schedule:\n",
    "    print(f\"Team {race[0] + 1} vs Team {race[1] + 1} on Boat {race[2] + 1}\")\n",
    "\n"
   ],
   "metadata": {
    "collapsed": false
   },
   "id": "a547950e7d532b07",
   "execution_count": null
  },
  {
   "cell_type": "code",
   "outputs": [],
   "source": [
    "import pandas as pd\n",
    "import re\n",
    "\n",
    "data = \"\"\"\n",
    "Flight Race Boat 1 Boat 2 Boat 3 Boat 4 Boat 5 Boat 6\n",
    "1 KYC(SH) BYCÜ SV03 NRV MSC SVI\n",
    "2 VSaW FSC DYC BYC(BE) WYC JSC\n",
    "3 KYC(BW) RSN MYC SMCÜ BYC(BA) ASVW\n",
    "4 KYC(BW) SV03 MYC JSC SVI BYC(BE)\n",
    "5 RSN BYC(BA) MSC FSC DYC NRV\n",
    "6 ASVW KYC(SH) SMCÜ WYC BYCÜ VSaW\n",
    "7 SV03 KYC(SH) FSC BYC(BA) MYC VSaW\n",
    "8 SVI MSC BYC(BE) RSN ASVW WYC\n",
    "9 SMCÜ JSC NRV DYC KYC(BW) BYCÜ\n",
    "10 BYC(BE) ASVW NRV KYC(SH) KYC(BW) FSC\n",
    "11 BYCÜ DYC RSN SVI VSaW MYC\n",
    "12 WYC SMCÜ BYC(BA) MSC JSC SV03\n",
    "13 BYC(BE) SMCÜ VSaW RSN NRV SV03\n",
    "14 FSC MYC BYCÜ ASVW JSC MSC\n",
    "15 BYC(BA) KYC(BW) SVI WYC KYC(SH) DYC\n",
    "16 MSC KYC(BW) ASVW VSaW SV03 DYC\n",
    "17 JSC BYC(BE) KYC(SH) BYCÜ RSN BYC(BA)\n",
    "18 MYC NRV WYC SVI FSC SMCÜ\n",
    "19 SV03 RSN WYC BYCÜ FSC KYC(BW)\n",
    "20 NRV SVI JSC BYC(BA) VSaW ASVW\n",
    "21 DYC BYC(BE) MSC MYC SMCÜ KYC(SH)\n",
    "22 DYC SV03 RSN JSC ASVW KYC(SH)\n",
    "23 FSC BYC(BA) SVI SMCÜ BYC(BE) BYCÜ\n",
    "24 MSC VSaW KYC(BW) NRV WYC MYC\n",
    "25 SMCÜ ASVW DYC SV03 SVI FSC\n",
    "26 WYC BYCÜ BYC(BA) MYC BYC(BE) NRV\n",
    "27 JSC MSC KYC(BW) VSaW KYC(SH) RSN\n",
    "28 NRV WYC SV03 ASVW MYC RSN\n",
    "29 SVI JSC KYC(SH) KYC(BW) SMCÜ FSC\n",
    "30 BYC(BA) DYC VSaW MSC BYCÜ BYC(BE)\n",
    "31 BYC(BA) NRV FSC MSC RSN JSC\n",
    "32 MYC VSaW BYC(BE) KYC(BW) SV03 SVI\n",
    "33 BYCÜ WYC ASVW KYC(SH) DYC SMCÜ\n",
    "34 BYCÜ BYC(BE) ASVW SV03 BYC(BA) KYC(BW)\n",
    "35 VSaW SVI SMCÜ FSC RSN MSC\n",
    "36 KYC(SH) MYC JSC DYC NRV WYC\n",
    "37 SMCÜ MYC JSC BYCÜ MSC SV03\n",
    "38 ASVW NRV SVI KYC(SH) VSaW BYC(BA)\n",
    "39 RSN FSC DYC BYC(BE) KYC(BW) WYC\n",
    "40 MSC FSC KYC(SH) BYC(BE) ASVW MYC\n",
    "41 JSC VSaW BYC(BA) WYC SMCÜ KYC(BW)\n",
    "42 SV03 RSN BYCÜ DYC NRV SVI\n",
    "43 WYC JSC BYC(BE) ASVW MSC SVI\n",
    "44 DYC BYC(BA) KYC(BW) RSN MYC SMCÜ\n",
    "45 FSC KYC(SH) SV03 VSaW BYCÜ NRV\n",
    "46 RSN KYC(SH) SV03 SVI WYC BYC(BA)\n",
    "47 KYC(BW) BYCÜ SMCÜ NRV BYC(BE) MSC\n",
    "48 MYC ASVW VSaW JSC FSC DYC\n",
    "\"\"\"\n",
    "\n",
    "# Parse the data\n",
    "lines = data.strip().split('\\n')\n",
    "#headers = re.split(r'\\s+', lines[0])\n",
    "parsed_data = []\n",
    "\n",
    "for line in lines[1:]:\n",
    "    split_line = line.split()\n",
    "    race = split_line[0].strip()\n",
    "    boats = split_line[1:]\n",
    "    temp_list = [int(race)]\n",
    "    for boat_number, team in enumerate(boats, start=1):\n",
    "        temp_list.append(team)\n",
    "    parsed_data.append(temp_list)\n",
    "\n",
    "# parsed_data"
   ],
   "metadata": {
    "collapsed": false,
    "ExecuteTime": {
     "end_time": "2024-07-10T14:18:49.805092Z",
     "start_time": "2024-07-10T14:18:49.794950Z"
    }
   },
   "id": "eb5b88b042b171ce",
   "execution_count": 4
  },
  {
   "cell_type": "code",
   "outputs": [
    {
     "data": {
      "text/plain": "    Race    Boat1    Boat2    Boat3    Boat4    Boat5    Boat6  flight\n0      1  KYC(SH)     BYCÜ     SV03      NRV      MSC      SVI       1\n1      2     VSaW      FSC      DYC  BYC(BE)      WYC      JSC       1\n2      3  KYC(BW)      RSN      MYC     SMCÜ  BYC(BA)     ASVW       1\n3      4  KYC(BW)     SV03      MYC      JSC      SVI  BYC(BE)       2\n4      5      RSN  BYC(BA)      MSC      FSC      DYC      NRV       2\n5      6     ASVW  KYC(SH)     SMCÜ      WYC     BYCÜ     VSaW       2\n6      7     SV03  KYC(SH)      FSC  BYC(BA)      MYC     VSaW       3\n7      8      SVI      MSC  BYC(BE)      RSN     ASVW      WYC       3\n8      9     SMCÜ      JSC      NRV      DYC  KYC(BW)     BYCÜ       3\n9     10  BYC(BE)     ASVW      NRV  KYC(SH)  KYC(BW)      FSC       4\n10    11     BYCÜ      DYC      RSN      SVI     VSaW      MYC       4\n11    12      WYC     SMCÜ  BYC(BA)      MSC      JSC     SV03       4\n12    13  BYC(BE)     SMCÜ     VSaW      RSN      NRV     SV03       5\n13    14      FSC      MYC     BYCÜ     ASVW      JSC      MSC       5\n14    15  BYC(BA)  KYC(BW)      SVI      WYC  KYC(SH)      DYC       5\n15    16      MSC  KYC(BW)     ASVW     VSaW     SV03      DYC       6\n16    17      JSC  BYC(BE)  KYC(SH)     BYCÜ      RSN  BYC(BA)       6\n17    18      MYC      NRV      WYC      SVI      FSC     SMCÜ       6\n18    19     SV03      RSN      WYC     BYCÜ      FSC  KYC(BW)       7\n19    20      NRV      SVI      JSC  BYC(BA)     VSaW     ASVW       7\n20    21      DYC  BYC(BE)      MSC      MYC     SMCÜ  KYC(SH)       7\n21    22      DYC     SV03      RSN      JSC     ASVW  KYC(SH)       8\n22    23      FSC  BYC(BA)      SVI     SMCÜ  BYC(BE)     BYCÜ       8\n23    24      MSC     VSaW  KYC(BW)      NRV      WYC      MYC       8\n24    25     SMCÜ     ASVW      DYC     SV03      SVI      FSC       9\n25    26      WYC     BYCÜ  BYC(BA)      MYC  BYC(BE)      NRV       9\n26    27      JSC      MSC  KYC(BW)     VSaW  KYC(SH)      RSN       9\n27    28      NRV      WYC     SV03     ASVW      MYC      RSN      10\n28    29      SVI      JSC  KYC(SH)  KYC(BW)     SMCÜ      FSC      10\n29    30  BYC(BA)      DYC     VSaW      MSC     BYCÜ  BYC(BE)      10\n30    31  BYC(BA)      NRV      FSC      MSC      RSN      JSC      11\n31    32      MYC     VSaW  BYC(BE)  KYC(BW)     SV03      SVI      11\n32    33     BYCÜ      WYC     ASVW  KYC(SH)      DYC     SMCÜ      11\n33    34     BYCÜ  BYC(BE)     ASVW     SV03  BYC(BA)  KYC(BW)      12\n34    35     VSaW      SVI     SMCÜ      FSC      RSN      MSC      12\n35    36  KYC(SH)      MYC      JSC      DYC      NRV      WYC      12\n36    37     SMCÜ      MYC      JSC     BYCÜ      MSC     SV03      13\n37    38     ASVW      NRV      SVI  KYC(SH)     VSaW  BYC(BA)      13\n38    39      RSN      FSC      DYC  BYC(BE)  KYC(BW)      WYC      13\n39    40      MSC      FSC  KYC(SH)  BYC(BE)     ASVW      MYC      14\n40    41      JSC     VSaW  BYC(BA)      WYC     SMCÜ  KYC(BW)      14\n41    42     SV03      RSN     BYCÜ      DYC      NRV      SVI      14\n42    43      WYC      JSC  BYC(BE)     ASVW      MSC      SVI      15\n43    44      DYC  BYC(BA)  KYC(BW)      RSN      MYC     SMCÜ      15\n44    45      FSC  KYC(SH)     SV03     VSaW     BYCÜ      NRV      15\n45    46      RSN  KYC(SH)     SV03      SVI      WYC  BYC(BA)      16\n46    47  KYC(BW)     BYCÜ     SMCÜ      NRV  BYC(BE)      MSC      16\n47    48      MYC     ASVW     VSaW      JSC      FSC      DYC      16",
      "text/html": "<div>\n<style scoped>\n    .dataframe tbody tr th:only-of-type {\n        vertical-align: middle;\n    }\n\n    .dataframe tbody tr th {\n        vertical-align: top;\n    }\n\n    .dataframe thead th {\n        text-align: right;\n    }\n</style>\n<table border=\"1\" class=\"dataframe\">\n  <thead>\n    <tr style=\"text-align: right;\">\n      <th></th>\n      <th>Race</th>\n      <th>Boat1</th>\n      <th>Boat2</th>\n      <th>Boat3</th>\n      <th>Boat4</th>\n      <th>Boat5</th>\n      <th>Boat6</th>\n      <th>flight</th>\n    </tr>\n  </thead>\n  <tbody>\n    <tr>\n      <th>0</th>\n      <td>1</td>\n      <td>KYC(SH)</td>\n      <td>BYCÜ</td>\n      <td>SV03</td>\n      <td>NRV</td>\n      <td>MSC</td>\n      <td>SVI</td>\n      <td>1</td>\n    </tr>\n    <tr>\n      <th>1</th>\n      <td>2</td>\n      <td>VSaW</td>\n      <td>FSC</td>\n      <td>DYC</td>\n      <td>BYC(BE)</td>\n      <td>WYC</td>\n      <td>JSC</td>\n      <td>1</td>\n    </tr>\n    <tr>\n      <th>2</th>\n      <td>3</td>\n      <td>KYC(BW)</td>\n      <td>RSN</td>\n      <td>MYC</td>\n      <td>SMCÜ</td>\n      <td>BYC(BA)</td>\n      <td>ASVW</td>\n      <td>1</td>\n    </tr>\n    <tr>\n      <th>3</th>\n      <td>4</td>\n      <td>KYC(BW)</td>\n      <td>SV03</td>\n      <td>MYC</td>\n      <td>JSC</td>\n      <td>SVI</td>\n      <td>BYC(BE)</td>\n      <td>2</td>\n    </tr>\n    <tr>\n      <th>4</th>\n      <td>5</td>\n      <td>RSN</td>\n      <td>BYC(BA)</td>\n      <td>MSC</td>\n      <td>FSC</td>\n      <td>DYC</td>\n      <td>NRV</td>\n      <td>2</td>\n    </tr>\n    <tr>\n      <th>5</th>\n      <td>6</td>\n      <td>ASVW</td>\n      <td>KYC(SH)</td>\n      <td>SMCÜ</td>\n      <td>WYC</td>\n      <td>BYCÜ</td>\n      <td>VSaW</td>\n      <td>2</td>\n    </tr>\n    <tr>\n      <th>6</th>\n      <td>7</td>\n      <td>SV03</td>\n      <td>KYC(SH)</td>\n      <td>FSC</td>\n      <td>BYC(BA)</td>\n      <td>MYC</td>\n      <td>VSaW</td>\n      <td>3</td>\n    </tr>\n    <tr>\n      <th>7</th>\n      <td>8</td>\n      <td>SVI</td>\n      <td>MSC</td>\n      <td>BYC(BE)</td>\n      <td>RSN</td>\n      <td>ASVW</td>\n      <td>WYC</td>\n      <td>3</td>\n    </tr>\n    <tr>\n      <th>8</th>\n      <td>9</td>\n      <td>SMCÜ</td>\n      <td>JSC</td>\n      <td>NRV</td>\n      <td>DYC</td>\n      <td>KYC(BW)</td>\n      <td>BYCÜ</td>\n      <td>3</td>\n    </tr>\n    <tr>\n      <th>9</th>\n      <td>10</td>\n      <td>BYC(BE)</td>\n      <td>ASVW</td>\n      <td>NRV</td>\n      <td>KYC(SH)</td>\n      <td>KYC(BW)</td>\n      <td>FSC</td>\n      <td>4</td>\n    </tr>\n    <tr>\n      <th>10</th>\n      <td>11</td>\n      <td>BYCÜ</td>\n      <td>DYC</td>\n      <td>RSN</td>\n      <td>SVI</td>\n      <td>VSaW</td>\n      <td>MYC</td>\n      <td>4</td>\n    </tr>\n    <tr>\n      <th>11</th>\n      <td>12</td>\n      <td>WYC</td>\n      <td>SMCÜ</td>\n      <td>BYC(BA)</td>\n      <td>MSC</td>\n      <td>JSC</td>\n      <td>SV03</td>\n      <td>4</td>\n    </tr>\n    <tr>\n      <th>12</th>\n      <td>13</td>\n      <td>BYC(BE)</td>\n      <td>SMCÜ</td>\n      <td>VSaW</td>\n      <td>RSN</td>\n      <td>NRV</td>\n      <td>SV03</td>\n      <td>5</td>\n    </tr>\n    <tr>\n      <th>13</th>\n      <td>14</td>\n      <td>FSC</td>\n      <td>MYC</td>\n      <td>BYCÜ</td>\n      <td>ASVW</td>\n      <td>JSC</td>\n      <td>MSC</td>\n      <td>5</td>\n    </tr>\n    <tr>\n      <th>14</th>\n      <td>15</td>\n      <td>BYC(BA)</td>\n      <td>KYC(BW)</td>\n      <td>SVI</td>\n      <td>WYC</td>\n      <td>KYC(SH)</td>\n      <td>DYC</td>\n      <td>5</td>\n    </tr>\n    <tr>\n      <th>15</th>\n      <td>16</td>\n      <td>MSC</td>\n      <td>KYC(BW)</td>\n      <td>ASVW</td>\n      <td>VSaW</td>\n      <td>SV03</td>\n      <td>DYC</td>\n      <td>6</td>\n    </tr>\n    <tr>\n      <th>16</th>\n      <td>17</td>\n      <td>JSC</td>\n      <td>BYC(BE)</td>\n      <td>KYC(SH)</td>\n      <td>BYCÜ</td>\n      <td>RSN</td>\n      <td>BYC(BA)</td>\n      <td>6</td>\n    </tr>\n    <tr>\n      <th>17</th>\n      <td>18</td>\n      <td>MYC</td>\n      <td>NRV</td>\n      <td>WYC</td>\n      <td>SVI</td>\n      <td>FSC</td>\n      <td>SMCÜ</td>\n      <td>6</td>\n    </tr>\n    <tr>\n      <th>18</th>\n      <td>19</td>\n      <td>SV03</td>\n      <td>RSN</td>\n      <td>WYC</td>\n      <td>BYCÜ</td>\n      <td>FSC</td>\n      <td>KYC(BW)</td>\n      <td>7</td>\n    </tr>\n    <tr>\n      <th>19</th>\n      <td>20</td>\n      <td>NRV</td>\n      <td>SVI</td>\n      <td>JSC</td>\n      <td>BYC(BA)</td>\n      <td>VSaW</td>\n      <td>ASVW</td>\n      <td>7</td>\n    </tr>\n    <tr>\n      <th>20</th>\n      <td>21</td>\n      <td>DYC</td>\n      <td>BYC(BE)</td>\n      <td>MSC</td>\n      <td>MYC</td>\n      <td>SMCÜ</td>\n      <td>KYC(SH)</td>\n      <td>7</td>\n    </tr>\n    <tr>\n      <th>21</th>\n      <td>22</td>\n      <td>DYC</td>\n      <td>SV03</td>\n      <td>RSN</td>\n      <td>JSC</td>\n      <td>ASVW</td>\n      <td>KYC(SH)</td>\n      <td>8</td>\n    </tr>\n    <tr>\n      <th>22</th>\n      <td>23</td>\n      <td>FSC</td>\n      <td>BYC(BA)</td>\n      <td>SVI</td>\n      <td>SMCÜ</td>\n      <td>BYC(BE)</td>\n      <td>BYCÜ</td>\n      <td>8</td>\n    </tr>\n    <tr>\n      <th>23</th>\n      <td>24</td>\n      <td>MSC</td>\n      <td>VSaW</td>\n      <td>KYC(BW)</td>\n      <td>NRV</td>\n      <td>WYC</td>\n      <td>MYC</td>\n      <td>8</td>\n    </tr>\n    <tr>\n      <th>24</th>\n      <td>25</td>\n      <td>SMCÜ</td>\n      <td>ASVW</td>\n      <td>DYC</td>\n      <td>SV03</td>\n      <td>SVI</td>\n      <td>FSC</td>\n      <td>9</td>\n    </tr>\n    <tr>\n      <th>25</th>\n      <td>26</td>\n      <td>WYC</td>\n      <td>BYCÜ</td>\n      <td>BYC(BA)</td>\n      <td>MYC</td>\n      <td>BYC(BE)</td>\n      <td>NRV</td>\n      <td>9</td>\n    </tr>\n    <tr>\n      <th>26</th>\n      <td>27</td>\n      <td>JSC</td>\n      <td>MSC</td>\n      <td>KYC(BW)</td>\n      <td>VSaW</td>\n      <td>KYC(SH)</td>\n      <td>RSN</td>\n      <td>9</td>\n    </tr>\n    <tr>\n      <th>27</th>\n      <td>28</td>\n      <td>NRV</td>\n      <td>WYC</td>\n      <td>SV03</td>\n      <td>ASVW</td>\n      <td>MYC</td>\n      <td>RSN</td>\n      <td>10</td>\n    </tr>\n    <tr>\n      <th>28</th>\n      <td>29</td>\n      <td>SVI</td>\n      <td>JSC</td>\n      <td>KYC(SH)</td>\n      <td>KYC(BW)</td>\n      <td>SMCÜ</td>\n      <td>FSC</td>\n      <td>10</td>\n    </tr>\n    <tr>\n      <th>29</th>\n      <td>30</td>\n      <td>BYC(BA)</td>\n      <td>DYC</td>\n      <td>VSaW</td>\n      <td>MSC</td>\n      <td>BYCÜ</td>\n      <td>BYC(BE)</td>\n      <td>10</td>\n    </tr>\n    <tr>\n      <th>30</th>\n      <td>31</td>\n      <td>BYC(BA)</td>\n      <td>NRV</td>\n      <td>FSC</td>\n      <td>MSC</td>\n      <td>RSN</td>\n      <td>JSC</td>\n      <td>11</td>\n    </tr>\n    <tr>\n      <th>31</th>\n      <td>32</td>\n      <td>MYC</td>\n      <td>VSaW</td>\n      <td>BYC(BE)</td>\n      <td>KYC(BW)</td>\n      <td>SV03</td>\n      <td>SVI</td>\n      <td>11</td>\n    </tr>\n    <tr>\n      <th>32</th>\n      <td>33</td>\n      <td>BYCÜ</td>\n      <td>WYC</td>\n      <td>ASVW</td>\n      <td>KYC(SH)</td>\n      <td>DYC</td>\n      <td>SMCÜ</td>\n      <td>11</td>\n    </tr>\n    <tr>\n      <th>33</th>\n      <td>34</td>\n      <td>BYCÜ</td>\n      <td>BYC(BE)</td>\n      <td>ASVW</td>\n      <td>SV03</td>\n      <td>BYC(BA)</td>\n      <td>KYC(BW)</td>\n      <td>12</td>\n    </tr>\n    <tr>\n      <th>34</th>\n      <td>35</td>\n      <td>VSaW</td>\n      <td>SVI</td>\n      <td>SMCÜ</td>\n      <td>FSC</td>\n      <td>RSN</td>\n      <td>MSC</td>\n      <td>12</td>\n    </tr>\n    <tr>\n      <th>35</th>\n      <td>36</td>\n      <td>KYC(SH)</td>\n      <td>MYC</td>\n      <td>JSC</td>\n      <td>DYC</td>\n      <td>NRV</td>\n      <td>WYC</td>\n      <td>12</td>\n    </tr>\n    <tr>\n      <th>36</th>\n      <td>37</td>\n      <td>SMCÜ</td>\n      <td>MYC</td>\n      <td>JSC</td>\n      <td>BYCÜ</td>\n      <td>MSC</td>\n      <td>SV03</td>\n      <td>13</td>\n    </tr>\n    <tr>\n      <th>37</th>\n      <td>38</td>\n      <td>ASVW</td>\n      <td>NRV</td>\n      <td>SVI</td>\n      <td>KYC(SH)</td>\n      <td>VSaW</td>\n      <td>BYC(BA)</td>\n      <td>13</td>\n    </tr>\n    <tr>\n      <th>38</th>\n      <td>39</td>\n      <td>RSN</td>\n      <td>FSC</td>\n      <td>DYC</td>\n      <td>BYC(BE)</td>\n      <td>KYC(BW)</td>\n      <td>WYC</td>\n      <td>13</td>\n    </tr>\n    <tr>\n      <th>39</th>\n      <td>40</td>\n      <td>MSC</td>\n      <td>FSC</td>\n      <td>KYC(SH)</td>\n      <td>BYC(BE)</td>\n      <td>ASVW</td>\n      <td>MYC</td>\n      <td>14</td>\n    </tr>\n    <tr>\n      <th>40</th>\n      <td>41</td>\n      <td>JSC</td>\n      <td>VSaW</td>\n      <td>BYC(BA)</td>\n      <td>WYC</td>\n      <td>SMCÜ</td>\n      <td>KYC(BW)</td>\n      <td>14</td>\n    </tr>\n    <tr>\n      <th>41</th>\n      <td>42</td>\n      <td>SV03</td>\n      <td>RSN</td>\n      <td>BYCÜ</td>\n      <td>DYC</td>\n      <td>NRV</td>\n      <td>SVI</td>\n      <td>14</td>\n    </tr>\n    <tr>\n      <th>42</th>\n      <td>43</td>\n      <td>WYC</td>\n      <td>JSC</td>\n      <td>BYC(BE)</td>\n      <td>ASVW</td>\n      <td>MSC</td>\n      <td>SVI</td>\n      <td>15</td>\n    </tr>\n    <tr>\n      <th>43</th>\n      <td>44</td>\n      <td>DYC</td>\n      <td>BYC(BA)</td>\n      <td>KYC(BW)</td>\n      <td>RSN</td>\n      <td>MYC</td>\n      <td>SMCÜ</td>\n      <td>15</td>\n    </tr>\n    <tr>\n      <th>44</th>\n      <td>45</td>\n      <td>FSC</td>\n      <td>KYC(SH)</td>\n      <td>SV03</td>\n      <td>VSaW</td>\n      <td>BYCÜ</td>\n      <td>NRV</td>\n      <td>15</td>\n    </tr>\n    <tr>\n      <th>45</th>\n      <td>46</td>\n      <td>RSN</td>\n      <td>KYC(SH)</td>\n      <td>SV03</td>\n      <td>SVI</td>\n      <td>WYC</td>\n      <td>BYC(BA)</td>\n      <td>16</td>\n    </tr>\n    <tr>\n      <th>46</th>\n      <td>47</td>\n      <td>KYC(BW)</td>\n      <td>BYCÜ</td>\n      <td>SMCÜ</td>\n      <td>NRV</td>\n      <td>BYC(BE)</td>\n      <td>MSC</td>\n      <td>16</td>\n    </tr>\n    <tr>\n      <th>47</th>\n      <td>48</td>\n      <td>MYC</td>\n      <td>ASVW</td>\n      <td>VSaW</td>\n      <td>JSC</td>\n      <td>FSC</td>\n      <td>DYC</td>\n      <td>16</td>\n    </tr>\n  </tbody>\n</table>\n</div>"
     },
     "execution_count": 5,
     "metadata": {},
     "output_type": "execute_result"
    }
   ],
   "source": [
    "# Create a DataFrame\n",
    "columns = ['Race']\n",
    "columns.extend(['Boat{}'.format(i) for i in range(1,7)])\n",
    "df = pd.DataFrame(parsed_data, columns=columns)\n",
    "df['flight'] = [number for number in range(1, 17) for _ in range(3)]\n",
    "\n",
    "df"
   ],
   "metadata": {
    "collapsed": false,
    "ExecuteTime": {
     "end_time": "2024-07-10T14:18:51.510234Z",
     "start_time": "2024-07-10T14:18:51.469803Z"
    }
   },
   "id": "e36d9111813b7c8e",
   "execution_count": 5
  }
 ],
 "metadata": {
  "kernelspec": {
   "display_name": "Python 3",
   "language": "python",
   "name": "python3"
  },
  "language_info": {
   "codemirror_mode": {
    "name": "ipython",
    "version": 2
   },
   "file_extension": ".py",
   "mimetype": "text/x-python",
   "name": "python",
   "nbconvert_exporter": "python",
   "pygments_lexer": "ipython2",
   "version": "2.7.6"
  }
 },
 "nbformat": 4,
 "nbformat_minor": 5
}
